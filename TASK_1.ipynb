{
  "nbformat": 4,
  "nbformat_minor": 0,
  "metadata": {
    "colab": {
      "name": "TASK 1.ipynb",
      "provenance": []
    },
    "kernelspec": {
      "name": "python3",
      "display_name": "Python 3"
    },
    "language_info": {
      "name": "python"
    }
  },
  "cells": [
    {
      "cell_type": "markdown",
      "source": [
        "**Read Email Dataset and Pandas Dataframe and Validate Emails**"
      ],
      "metadata": {
        "id": "ujJNCZuoBbzW"
      }
    },
    {
      "cell_type": "markdown",
      "source": [
        "**IMPORTING LIBRARIES**"
      ],
      "metadata": {
        "id": "rMRBtfPk7Enp"
      }
    },
    {
      "cell_type": "code",
      "execution_count": 11,
      "metadata": {
        "id": "aTses5gJDShu"
      },
      "outputs": [],
      "source": [
        "import pandas as pd\n",
        "from email_validator import validate_email, EmailNotValidError"
      ]
    },
    {
      "cell_type": "markdown",
      "source": [
        "**READING CSV FILE**"
      ],
      "metadata": {
        "id": "aLNlmqk97LLV"
      }
    },
    {
      "cell_type": "code",
      "source": [
        "path = \"/content/EmailData.csv\""
      ],
      "metadata": {
        "id": "gHdqlaOnDWPr"
      },
      "execution_count": 12,
      "outputs": []
    },
    {
      "cell_type": "code",
      "source": [
        "df = pd.read_csv(path)"
      ],
      "metadata": {
        "id": "mcamBN1rDoDA"
      },
      "execution_count": 13,
      "outputs": []
    },
    {
      "cell_type": "markdown",
      "source": [
        "**INITIAL DATA**"
      ],
      "metadata": {
        "id": "16AW2V1k7WIk"
      }
    },
    {
      "cell_type": "code",
      "source": [
        "df.head()"
      ],
      "metadata": {
        "colab": {
          "base_uri": "https://localhost:8080/",
          "height": 206
        },
        "id": "FaE_mfq7DuE4",
        "outputId": "7c671fa1-7279-494d-e9eb-f6927c8811b7"
      },
      "execution_count": 14,
      "outputs": [
        {
          "output_type": "execute_result",
          "data": {
            "text/plain": [
              "                          mail_id\n",
              "0                     xyz@abc.com\n",
              "1                       iop@mnjip\n",
              "2               email@example.com\n",
              "3  firstname.lastname@example.com\n",
              "4     email@subdomain.example.com"
            ],
            "text/html": [
              "\n",
              "  <div id=\"df-056cc534-48a9-4e4b-a59b-76f7b5e9ef0f\">\n",
              "    <div class=\"colab-df-container\">\n",
              "      <div>\n",
              "<style scoped>\n",
              "    .dataframe tbody tr th:only-of-type {\n",
              "        vertical-align: middle;\n",
              "    }\n",
              "\n",
              "    .dataframe tbody tr th {\n",
              "        vertical-align: top;\n",
              "    }\n",
              "\n",
              "    .dataframe thead th {\n",
              "        text-align: right;\n",
              "    }\n",
              "</style>\n",
              "<table border=\"1\" class=\"dataframe\">\n",
              "  <thead>\n",
              "    <tr style=\"text-align: right;\">\n",
              "      <th></th>\n",
              "      <th>mail_id</th>\n",
              "    </tr>\n",
              "  </thead>\n",
              "  <tbody>\n",
              "    <tr>\n",
              "      <th>0</th>\n",
              "      <td>xyz@abc.com</td>\n",
              "    </tr>\n",
              "    <tr>\n",
              "      <th>1</th>\n",
              "      <td>iop@mnjip</td>\n",
              "    </tr>\n",
              "    <tr>\n",
              "      <th>2</th>\n",
              "      <td>email@example.com</td>\n",
              "    </tr>\n",
              "    <tr>\n",
              "      <th>3</th>\n",
              "      <td>firstname.lastname@example.com</td>\n",
              "    </tr>\n",
              "    <tr>\n",
              "      <th>4</th>\n",
              "      <td>email@subdomain.example.com</td>\n",
              "    </tr>\n",
              "  </tbody>\n",
              "</table>\n",
              "</div>\n",
              "      <button class=\"colab-df-convert\" onclick=\"convertToInteractive('df-056cc534-48a9-4e4b-a59b-76f7b5e9ef0f')\"\n",
              "              title=\"Convert this dataframe to an interactive table.\"\n",
              "              style=\"display:none;\">\n",
              "        \n",
              "  <svg xmlns=\"http://www.w3.org/2000/svg\" height=\"24px\"viewBox=\"0 0 24 24\"\n",
              "       width=\"24px\">\n",
              "    <path d=\"M0 0h24v24H0V0z\" fill=\"none\"/>\n",
              "    <path d=\"M18.56 5.44l.94 2.06.94-2.06 2.06-.94-2.06-.94-.94-2.06-.94 2.06-2.06.94zm-11 1L8.5 8.5l.94-2.06 2.06-.94-2.06-.94L8.5 2.5l-.94 2.06-2.06.94zm10 10l.94 2.06.94-2.06 2.06-.94-2.06-.94-.94-2.06-.94 2.06-2.06.94z\"/><path d=\"M17.41 7.96l-1.37-1.37c-.4-.4-.92-.59-1.43-.59-.52 0-1.04.2-1.43.59L10.3 9.45l-7.72 7.72c-.78.78-.78 2.05 0 2.83L4 21.41c.39.39.9.59 1.41.59.51 0 1.02-.2 1.41-.59l7.78-7.78 2.81-2.81c.8-.78.8-2.07 0-2.86zM5.41 20L4 18.59l7.72-7.72 1.47 1.35L5.41 20z\"/>\n",
              "  </svg>\n",
              "      </button>\n",
              "      \n",
              "  <style>\n",
              "    .colab-df-container {\n",
              "      display:flex;\n",
              "      flex-wrap:wrap;\n",
              "      gap: 12px;\n",
              "    }\n",
              "\n",
              "    .colab-df-convert {\n",
              "      background-color: #E8F0FE;\n",
              "      border: none;\n",
              "      border-radius: 50%;\n",
              "      cursor: pointer;\n",
              "      display: none;\n",
              "      fill: #1967D2;\n",
              "      height: 32px;\n",
              "      padding: 0 0 0 0;\n",
              "      width: 32px;\n",
              "    }\n",
              "\n",
              "    .colab-df-convert:hover {\n",
              "      background-color: #E2EBFA;\n",
              "      box-shadow: 0px 1px 2px rgba(60, 64, 67, 0.3), 0px 1px 3px 1px rgba(60, 64, 67, 0.15);\n",
              "      fill: #174EA6;\n",
              "    }\n",
              "\n",
              "    [theme=dark] .colab-df-convert {\n",
              "      background-color: #3B4455;\n",
              "      fill: #D2E3FC;\n",
              "    }\n",
              "\n",
              "    [theme=dark] .colab-df-convert:hover {\n",
              "      background-color: #434B5C;\n",
              "      box-shadow: 0px 1px 3px 1px rgba(0, 0, 0, 0.15);\n",
              "      filter: drop-shadow(0px 1px 2px rgba(0, 0, 0, 0.3));\n",
              "      fill: #FFFFFF;\n",
              "    }\n",
              "  </style>\n",
              "\n",
              "      <script>\n",
              "        const buttonEl =\n",
              "          document.querySelector('#df-056cc534-48a9-4e4b-a59b-76f7b5e9ef0f button.colab-df-convert');\n",
              "        buttonEl.style.display =\n",
              "          google.colab.kernel.accessAllowed ? 'block' : 'none';\n",
              "\n",
              "        async function convertToInteractive(key) {\n",
              "          const element = document.querySelector('#df-056cc534-48a9-4e4b-a59b-76f7b5e9ef0f');\n",
              "          const dataTable =\n",
              "            await google.colab.kernel.invokeFunction('convertToInteractive',\n",
              "                                                     [key], {});\n",
              "          if (!dataTable) return;\n",
              "\n",
              "          const docLinkHtml = 'Like what you see? Visit the ' +\n",
              "            '<a target=\"_blank\" href=https://colab.research.google.com/notebooks/data_table.ipynb>data table notebook</a>'\n",
              "            + ' to learn more about interactive tables.';\n",
              "          element.innerHTML = '';\n",
              "          dataTable['output_type'] = 'display_data';\n",
              "          await google.colab.output.renderOutput(dataTable, element);\n",
              "          const docLink = document.createElement('div');\n",
              "          docLink.innerHTML = docLinkHtml;\n",
              "          element.appendChild(docLink);\n",
              "        }\n",
              "      </script>\n",
              "    </div>\n",
              "  </div>\n",
              "  "
            ]
          },
          "metadata": {},
          "execution_count": 14
        }
      ]
    },
    {
      "cell_type": "markdown",
      "source": [
        "**FINDING VALID AND INVALID EMAILS**"
      ],
      "metadata": {
        "id": "IvNGVbG87pjH"
      }
    },
    {
      "cell_type": "code",
      "source": [
        "for i in range(len(df)):\n",
        "  mail = df.loc[i]['mail_id']\n",
        "\n",
        "  try:\n",
        "  # Validate & take the normalized form of the email\n",
        "  # address for all logic beyond this point (especially\n",
        "  # before going to a database query where equality\n",
        "  # does not take into account normalization).\n",
        "    email = validate_email(mail).email\n",
        "  except EmailNotValidError as e:\n",
        "    # email is not valid, exception message is human-readable\n",
        "    print(\"Invalid: {}\".format(mail))\n",
        "  else:\n",
        "    print(\"Valid: {}\".format(mail))"
      ],
      "metadata": {
        "colab": {
          "base_uri": "https://localhost:8080/"
        },
        "id": "MU7_1KnxENTG",
        "outputId": "0dd40427-ab80-43b2-94bb-3104692895e6"
      },
      "execution_count": 15,
      "outputs": [
        {
          "output_type": "stream",
          "name": "stdout",
          "text": [
            "Valid: xyz@abc.com\n",
            "Invalid: iop@mnjip\n",
            "Invalid: email@example.com\n",
            "Invalid: firstname.lastname@example.com\n",
            "Invalid: email@subdomain.example.com\n",
            "Invalid: firstname+lastname@example.com\n",
            "Invalid: email@123.123.123.123\n",
            "Invalid: email@[123.123.123.123]\n",
            "Invalid: email@example.com\n",
            "Invalid: 1234567890@example.com\n",
            "Invalid: email@example-one.com\n",
            "Invalid: _______@example.com\n",
            "Invalid: plainaddress\n",
            "Invalid: #@%^%#$@#$@#.com\n",
            "Invalid: @example.com\n",
            "Invalid: Joe Smith <email@example.com>\n",
            "Invalid: email.example.com\n",
            "Invalid: email@example@example.com\n",
            "Invalid: .email@example.com\n",
            "Invalid: email.@example.com\n",
            "Invalid: email..email@example.com\n",
            "Invalid: あいうえお@example.com\n",
            "Invalid: email@example.com (Joe Smith)\n",
            "Invalid: email@example\n",
            "Invalid: email@-example.com\n",
            "Invalid: email@example.web\n",
            "Invalid: email@111.222.333.44444\n",
            "Invalid: email@example..com\n",
            "Invalid: Abc..123@example.com\n",
            "Invalid: email@example.name\n",
            "Invalid: email@example.museum\n",
            "Invalid: email@example.co.jp\n",
            "Invalid: firstname-lastname@example.com\n"
          ]
        }
      ]
    },
    {
      "cell_type": "code",
      "source": [
        ""
      ],
      "metadata": {
        "id": "wu602z6DUsUQ"
      },
      "execution_count": null,
      "outputs": []
    }
  ]
}